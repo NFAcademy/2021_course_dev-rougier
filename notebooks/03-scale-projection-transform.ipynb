{
 "cells": [
  {
   "cell_type": "code",
   "execution_count": null,
   "id": "adef8d88",
   "metadata": {},
   "outputs": [],
   "source": [
    "from IPython.core.display import display, HTML\n",
    "style = open(\"./style.css\").read()\n",
    "display(HTML(\"<style>%s</style>\" % style))"
   ]
  },
  {
   "cell_type": "markdown",
   "id": "44d4da96",
   "metadata": {},
   "source": [
    "# Scales, projections & transforms\n",
    "\n",
    "\n",
    "\n",
    "<img src=\"../images/projections.png\" width=\"50%\" align=\"left\" /> <img src=\"../images/scales.png\" width=\"50%\" /> These images come from the [cheatsheets](https://github.com/matplotlib/cheatsheets).\n"
   ]
  },
  {
   "cell_type": "markdown",
   "id": "7bb1fe00",
   "metadata": {},
   "source": [
    "## 1. Scales\n",
    "\n",
    "Until now (lesson 1 & 2), we've been using exclusively linear scales along the x and y axis. But matplotlib offers the possibility to use different scales such as [log scale](https://matplotlib.org/stable/api/scale_api.html#matplotlib.scale.LogScale), [symlog scale](https://matplotlib.org/stable/api/scale_api.html#matplotlib.scale.SymmetricalLogScale), [logit scale](https://matplotlib.org/stable/api/scale_api.html#matplotlib.scale.LogitScale) or [user scale](https://matplotlib.org/stable/api/scale_api.html#matplotlib.scale.FuncScale) if none of the others fits your need."
   ]
  },
  {
   "cell_type": "markdown",
   "id": "87ecc890",
   "metadata": {},
   "source": [
    "Let's start with the log scale and observe what the cosine function looks like when the x scale is logarithmic."
   ]
  },
  {
   "cell_type": "code",
   "execution_count": null,
   "id": "d0044d69",
   "metadata": {},
   "outputs": [],
   "source": [
    "import numpy as np\n",
    "import matplotlib.pyplot as plt\n",
    "\n",
    "X = np.linspace(0, 10*np.pi, 5000)\n",
    "Y = np.cos(X)\n",
    "\n",
    "fig = plt.figure(figsize=(10,3), dpi=300);\n",
    "ax = plt.subplot(xscale=\"log\");\n",
    "\n",
    "plt.plot(X,Y);"
   ]
  },
  {
   "cell_type": "markdown",
   "id": "77f99bd8",
   "metadata": {},
   "source": [
    "We can of course do the same with the y scale but we have to take care of not having negative or null values in Y."
   ]
  },
  {
   "cell_type": "code",
   "execution_count": null,
   "id": "05814aed",
   "metadata": {},
   "outputs": [],
   "source": [
    "import numpy as np\n",
    "import matplotlib.pyplot as plt\n",
    "\n",
    "X = np.linspace(0, 10*np.pi, 5000)\n",
    "Y = 1.001+np.cos(X)\n",
    "\n",
    "fig = plt.figure(figsize=(10,3), dpi=300);\n",
    "ax = plt.subplot(yscale=\"log\");\n",
    "\n",
    "plt.plot(X,Y);"
   ]
  },
  {
   "cell_type": "markdown",
   "id": "63a73083",
   "metadata": {},
   "source": [
    "And we can also combine the two scales."
   ]
  },
  {
   "cell_type": "code",
   "execution_count": null,
   "id": "fca247d0",
   "metadata": {},
   "outputs": [],
   "source": [
    "import numpy as np\n",
    "import matplotlib.pyplot as plt\n",
    "\n",
    "X = np.linspace(0, 10*np.pi, 5000)\n",
    "Y = 1.001+np.cos(X)\n",
    "\n",
    "fig = plt.figure(figsize=(10,3), dpi=300);\n",
    "ax = plt.subplot(xscale = \"log\", yscale=\"log\");\n",
    "\n",
    "plt.plot(X,Y);"
   ]
  },
  {
   "cell_type": "markdown",
   "id": "cc2d61e5",
   "metadata": {},
   "source": [
    "One question is what will happen of change the line style. Does is adapt to the scale or not? Let's check."
   ]
  },
  {
   "cell_type": "code",
   "execution_count": null,
   "id": "fe95efa4",
   "metadata": {
    "scrolled": true
   },
   "outputs": [],
   "source": [
    "import numpy as np\n",
    "import matplotlib.pyplot as plt\n",
    "\n",
    "X = np.linspace(0, 10*np.pi, 5000)\n",
    "Y = 1.001+np.cos(X)\n",
    "\n",
    "fig = plt.figure(figsize=(10,3), dpi=300);\n",
    "ax = plt.subplot(xscale=\"log\", yscale=\"log\");\n",
    "\n",
    "plt.plot(X, Y, \"--\");"
   ]
  },
  {
   "cell_type": "markdown",
   "id": "879ade99",
   "metadata": {},
   "source": [
    "No changes. Dashed remains linear. What about markers then ?"
   ]
  },
  {
   "cell_type": "code",
   "execution_count": null,
   "id": "a3a50c4f",
   "metadata": {},
   "outputs": [],
   "source": [
    "import numpy as np\n",
    "import matplotlib.pyplot as plt\n",
    "\n",
    "X = np.linspace(0, 10*np.pi, 5000)\n",
    "Y = 1.001+np.cos(X)\n",
    "\n",
    "fig = plt.figure(figsize=(10,3), dpi=300);\n",
    "ax = plt.subplot(xscale=\"log\", yscale=\"log\");\n",
    "\n",
    "plt.plot(X, Y, \"-o\", markevery=(0,.05), markersize=3);"
   ]
  },
  {
   "cell_type": "markdown",
   "id": "30dfde3f",
   "metadata": {},
   "source": [
    "Markers spacing follows the curvilinear coordinates of the plot actually.\n",
    "\n",
    "When you have an x or y domain that includes null or negative values, then you can use a symlog scale instead of a log scale. There two scales are very similar but the symlog scale includes an area around zero that is linear in order to avoid problem with the log. For negative value, the scale takes care of taking the absolute value and put back the negative sign after.\n"
   ]
  },
  {
   "cell_type": "code",
   "execution_count": null,
   "id": "8a0505e6",
   "metadata": {},
   "outputs": [],
   "source": [
    "import numpy as np\n",
    "import matplotlib.pyplot as plt\n",
    "\n",
    "X = np.linspace(-10*np.pi, 10*np.pi, 5000)\n",
    "Y = np.sin(X)\n",
    "\n",
    "fig = plt.figure(figsize=(10,3), dpi=300);\n",
    "ax = plt.subplot(xscale=\"symlog\", yscale=\"symlog\");\n",
    "\n",
    "plt.plot(X, Y);\n",
    "\n",
    "ax.spines['right'].set_visible(False);\n",
    "ax.spines['top'].set_visible(False);\n",
    "ax.spines['bottom'].set_position(('data',0));\n",
    "ax.spines['left'].set_position(('data',0));"
   ]
  },
  {
   "cell_type": "markdown",
   "id": "121a033d",
   "metadata": {},
   "source": [
    "What is nice with scales is that they will adapt to almost every plot commands."
   ]
  },
  {
   "cell_type": "code",
   "execution_count": null,
   "id": "48a24faf",
   "metadata": {},
   "outputs": [],
   "source": [
    "np.random.seed(1);\n",
    "X = np.random.uniform(0.001, 1.0, 5000)\n",
    "Y = np.random.uniform(0.001, 0.5, 5000)\n",
    "\n",
    "fig = plt.figure(figsize=(10,3), dpi=300)\n",
    "ax = plt.subplot(xscale=\"log\", yscale=\"linear\")\n",
    "ax.scatter(X, Y, 1, marker='o', cmap=\"Blues\");\n",
    "\n",
    "plt.tight_layout()"
   ]
  },
  {
   "cell_type": "markdown",
   "id": "27624b39",
   "metadata": {},
   "source": [
    "Bar plot using a log scale provides an interesting rendering."
   ]
  },
  {
   "cell_type": "code",
   "execution_count": null,
   "id": "251c99dd",
   "metadata": {},
   "outputs": [],
   "source": [
    "np.random.seed(1)\n",
    "X = 1+np.arange(0,32)\n",
    "Y = np.linspace(0.5, 1.0, len(X))\n",
    "\n",
    "fig = plt.figure(figsize=(10,4), dpi=300);\n",
    "ax = plt.subplot(xscale=\"log\");\n",
    "\n",
    "ax.bar(X, Y);"
   ]
  },
  {
   "cell_type": "markdown",
   "id": "c6e8bf4f",
   "metadata": {},
   "source": [
    "## 2. Projections\n"
   ]
  },
  {
   "cell_type": "markdown",
   "id": "30e47846",
   "metadata": {},
   "source": [
    "## 3. Transforms"
   ]
  },
  {
   "cell_type": "markdown",
   "id": "4cbf7a3e",
   "metadata": {},
   "source": [
    "## 4. Exercises\n"
   ]
  },
  {
   "cell_type": "markdown",
   "id": "e993f24d",
   "metadata": {},
   "source": [
    "<img src=\"../images/03-exercise-1.png\" width=\"100%\" />"
   ]
  }
 ],
 "metadata": {
  "kernelspec": {
   "display_name": "Python 3",
   "language": "python",
   "name": "python3"
  },
  "language_info": {
   "codemirror_mode": {
    "name": "ipython",
    "version": 3
   },
   "file_extension": ".py",
   "mimetype": "text/x-python",
   "name": "python",
   "nbconvert_exporter": "python",
   "pygments_lexer": "ipython3",
   "version": "3.8.10"
  }
 },
 "nbformat": 4,
 "nbformat_minor": 5
}
