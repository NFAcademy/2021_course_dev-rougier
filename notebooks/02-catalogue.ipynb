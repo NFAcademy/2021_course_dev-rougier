{
 "cells": [
  {
   "cell_type": "markdown",
   "id": "35ed7c38",
   "metadata": {},
   "source": [
    "#### Notebook style configuration (optional)"
   ]
  },
  {
   "cell_type": "code",
   "execution_count": null,
   "id": "dade5863",
   "metadata": {},
   "outputs": [],
   "source": [
    "from IPython.core.display import display, HTML\n",
    "style = open(\"./style.css\").read()\n",
    "display(HTML(\"<style>%s</style>\" % style))"
   ]
  },
  {
   "cell_type": "markdown",
   "id": "c67e0bb1",
   "metadata": {},
   "source": [
    "# Dataviz catalogue\n",
    "\n",
    "In this lesson, we'll review the many different types of plot matplotlib offers and manipulate them.\n",
    "\n",
    "---"
   ]
  },
  {
   "cell_type": "markdown",
   "id": "c892032e",
   "metadata": {},
   "source": [
    "### Initialization\n",
    "\n",
    "Before we start, let's set some default settings such that we do not have to write them each time we start a new figure."
   ]
  },
  {
   "cell_type": "code",
   "execution_count": null,
   "id": "e7063475",
   "metadata": {},
   "outputs": [],
   "source": [
    "import numpy as np\n",
    "import matplotlib.pyplot as plt\n",
    "\n",
    "p = plt.rcParams\n",
    "p[\"figure.dpi\"] = 300"
   ]
  },
  {
   "cell_type": "markdown",
   "id": "a39cbb22",
   "metadata": {},
   "source": [
    "## 1. Line plot\n",
    "\n",
    "We have already manipulated line plot in the first lesson but we used it to render a... line plot (how surprising!). But this command is quite powerful and can be used to render many other type of plot such as, for example, a scatter plot. "
   ]
  },
  {
   "cell_type": "code",
   "execution_count": null,
   "id": "ab4a0ba9",
   "metadata": {},
   "outputs": [],
   "source": [
    "X = np.random.normal(0.0, .5, 10000)\n",
    "Y = np.random.normal(0.0, .5, len(X))\n",
    "\n",
    "fig = plt.figure(figsize=(10,10))\n",
    "ax = plt.subplot(1, 1, 1)\n",
    "ax.plot(X, Y, linestyle=\"\", color=\"C1\", alpha=0.1,\n",
    "              marker=\"o\", markersize=5, markeredgewidth=0);"
   ]
  },
  {
   "cell_type": "markdown",
   "id": "e1cf64fb",
   "metadata": {},
   "source": [
    "In the figure above, we took advantage of the `alpha` parameter that sets the transparency level of markers. Consequently, areas with a higher number of point will be more opaque, suggesting density to the reader."
   ]
  },
  {
   "cell_type": "code",
   "execution_count": null,
   "id": "2e4d350f",
   "metadata": {},
   "outputs": [],
   "source": [
    "X = [ 0,0,0,0, None, 1,1,1,1,1, None, 2,2,2, None, 3,3,3,3,3,3]\n",
    "Y = [ 1,2,3,4, None, 1,2,3,4,5, None, 1,2,3, None, 1,2,3,4,5,6]  \n",
    "\n",
    "fig = plt.figure(figsize=(10,4))\n",
    "ax = plt.subplot()\n",
    "\n",
    "ax.plot(X, Y, \"-o\", linewidth=5,\n",
    "        markersize=12, markeredgecolor=\"white\", markeredgewidth=2);\n",
    "\n",
    "ax.spines['right'].set_visible(False)\n",
    "ax.spines['left'].set_visible(False)\n",
    "ax.spines['top'].set_visible(False)\n",
    "ax.set_xlim(-.5,3.5); ax.set_xticks([0,1,2,3]);\n",
    "ax.set_ylim(0,7); ax.set_yticks([]);"
   ]
  },
  {
   "cell_type": "markdown",
   "id": "e23dc03c",
   "metadata": {},
   "source": [
    "In the figure above, the important point to notice is the use of the `None` keyword in X and Y. This indicates matpltolib that we have several series and matplotlib won't draw a line between the end point of a series and the start point of the next series.\n",
    "\n",
    "\n",
    "We can also combine several line plots to create a specific effect. For example, here is a progress bar made of several plots with various parameters. Here we take advantage of very thick line and specify line capstyle."
   ]
  },
  {
   "cell_type": "code",
   "execution_count": null,
   "id": "fba1aca1",
   "metadata": {},
   "outputs": [],
   "source": [
    "fig = plt.figure(figsize=(10,2))\n",
    "ax = plt.subplot(frameon=False)\n",
    "\n",
    "ax.plot([1,9], [0,0], linewidth=20, color=\"black\", solid_capstyle=\"round\");\n",
    "ax.plot([1,9], [0,0], linewidth=18, color=\"white\", solid_capstyle=\"round\");\n",
    "ax.plot([1,5], [0,0], linewidth=12, color=\"C1\",    solid_capstyle=\"round\");\n",
    "ax.plot([5,6], [0,0], linewidth=12, color=\"C1\",    solid_capstyle=\"butt\");\n",
    "ax.plot([6,6], [-0.5,0.5], \"--\", linewidth=1, color=\"black\");\n",
    "\n",
    "ax.set_xlim(0,10); ax.set_xticks([]);\n",
    "ax.set_ylim(-1.5,1.5); ax.set_yticks([]);"
   ]
  },
  {
   "cell_type": "markdown",
   "id": "6bee2361",
   "metadata": {},
   "source": [
    "## 2. Scatter plot"
   ]
  },
  {
   "cell_type": "markdown",
   "id": "5f4e5ba9",
   "metadata": {},
   "source": [
    "We have just seen that the `plot` command can be used to draw a scatter plot and yet, there exists a `scatter` function. You may ask yourself what is the different between these two functions. In fact, the regular plot command can be used to represent as scatter plot as long as points share the same properties, i.e. share the same color and size. If for some reason we need to have different colors or sizes, then we need to use the scatter command."
   ]
  },
  {
   "cell_type": "code",
   "execution_count": null,
   "id": "b4d6f353",
   "metadata": {},
   "outputs": [],
   "source": [
    "T = np.random.uniform(0, 2*np.pi, 500)\n",
    "R = np.random.uniform(0.1, 0.5, len(T))\n",
    "X, Y = R*np.cos(T), R*np.sin(T)        # Position\n",
    "S = np.random.uniform(50, 350, len(X)) # Size\n",
    "V = np.arctan2(X,Y)                    # Value \n",
    "\n",
    "fig = plt.figure(figsize=(10,10))\n",
    "ax = plt.subplot(1, 1, 1)\n",
    "ax.scatter(X, Y, S, V, cmap=\"twilight\", edgecolor=\"white\");"
   ]
  },
  {
   "cell_type": "markdown",
   "id": "51c1881f",
   "metadata": {},
   "source": [
    "In the example above, each marker possesses its own size and color (using a colormap). We could even specify individual marker type.\n",
    "\n",
    "Scatter can thus be used to produce heat map veary easily as shown below."
   ]
  },
  {
   "cell_type": "code",
   "execution_count": null,
   "id": "1a7960b3",
   "metadata": {},
   "outputs": [],
   "source": [
    "np.random.seed(1);\n",
    "X, Y = np.arange(24), np.arange(12)\n",
    "X, Y = np.meshgrid(X,Y)\n",
    "V = np.random.uniform(50, 250, X.shape) \n",
    "\n",
    "fig = plt.figure(figsize=(10,5))\n",
    "ax = plt.subplot()\n",
    "ax.scatter(X, Y, V, V, marker='s', cmap=\"Blues\");"
   ]
  },
  {
   "cell_type": "markdown",
   "id": "3a6a0ca6",
   "metadata": {},
   "source": [
    "We can further refine the heat map and move to a hexbin plot using hex markers."
   ]
  },
  {
   "cell_type": "code",
   "execution_count": null,
   "id": "ebfa6852",
   "metadata": {},
   "outputs": [],
   "source": [
    "np.random.seed(1)\n",
    "X = np.random.uniform(0,10,250)\n",
    "Y = X*np.abs(np.random.normal(0,1,len(X)))**2\n",
    "\n",
    "fig = plt.figure(figsize=(10,4));\n",
    "ax = plt.subplot();\n",
    "\n",
    "ax.scatter(X, Y, 50, linewidth=5, color=\"black\", clip_on=False);\n",
    "ax.scatter(X, Y, 50, linewidth=3, color=\"white\", clip_on=False);\n",
    "ax.scatter(X, Y, 50, linewidth=0, color=\"black\", alpha=0.25, clip_on=False);\n",
    "\n",
    "ax.spines['right'].set_visible(False);\n",
    "ax.spines['left'].set_visible(False);\n",
    "ax.spines['top'].set_visible(False);\n",
    "ax.set_xlim(0,10); ax.set_xticks([0,10]);\n",
    "ax.set_yticks([]);"
   ]
  },
  {
   "cell_type": "markdown",
   "id": "02480ea6",
   "metadata": {},
   "source": [
    "For this last example, we need to tell maplotlip to not clip markers that are oustide the axis using `clip_on=False` argument."
   ]
  },
  {
   "cell_type": "markdown",
   "id": "b880a0c6",
   "metadata": {},
   "source": [
    "## 3. Image plot"
   ]
  },
  {
   "cell_type": "markdown",
   "id": "1e02f192",
   "metadata": {},
   "source": [
    "## 5. Exercises"
   ]
  },
  {
   "cell_type": "markdown",
   "id": "44c9a43e",
   "metadata": {},
   "source": [
    "### 5.1 Regulat hexagonal scatter\n",
    "\n",
    "Since there exists an hexagonal marker ( `h` ), it is almost straightforward to create a regular hexagonal scatter plot as shown below. Try to reproduce the figure below byt first placing the marker with the right size and then try to color them.\n",
    "\n",
    "<img src=\"../images/02-exercise-1.png\" width=\"100%\" />"
   ]
  },
  {
   "cell_type": "code",
   "execution_count": null,
   "id": "0e27a86c",
   "metadata": {},
   "outputs": [],
   "source": []
  }
 ],
 "metadata": {
  "kernelspec": {
   "display_name": "Python 3",
   "language": "python",
   "name": "python3"
  },
  "language_info": {
   "codemirror_mode": {
    "name": "ipython",
    "version": 3
   },
   "file_extension": ".py",
   "mimetype": "text/x-python",
   "name": "python",
   "nbconvert_exporter": "python",
   "pygments_lexer": "ipython3",
   "version": "3.8.10"
  }
 },
 "nbformat": 4,
 "nbformat_minor": 5
}
