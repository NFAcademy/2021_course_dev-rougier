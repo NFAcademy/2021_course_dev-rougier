{
 "cells": [
  {
   "cell_type": "markdown",
   "id": "5ed59f34",
   "metadata": {},
   "source": [
    "#### Notebook style configuration (optional)"
   ]
  },
  {
   "cell_type": "code",
   "execution_count": 81,
   "id": "7a74d1d5",
   "metadata": {},
   "outputs": [
    {
     "data": {
      "text/html": [
       "<style>@import url('https://fonts.googleapis.com/css2?family=Roboto+Condensed:wght@300;400&family=Inconsolata:wght@300;400;500&display=swap');\n",
       " \n",
       ".rendered_html h1,\n",
       ".rendered_html h2,\n",
       ".rendered_html h3,\n",
       ".rendered_html h4 {\n",
       "    color: #000099;\n",
       "    font-weight: 400;\n",
       "}\n",
       "\n",
       ".rendered_html h1:first-child,\n",
       ".rendered_html h2:first-child,\n",
       ".rendered_html h3:first-child,\n",
       ".rendered_html h4:first-child\n",
       "{\n",
       "    margin-top: 0;\n",
       "}\n",
       "\n",
       "div.text_cell_render {\n",
       "    padding: 0.5em;\n",
       "    padding-top: 0;\n",
       "}\n",
       "                      \n",
       ".rendered_html h1 { font-size: 1.50em; }\n",
       ".rendered_html h2 { font-size: 1.25em; }\n",
       ".rendered_html h3 { font-size: 1.10em; }\n",
       ".rendered_html h4 { font-size: 1.00em; }\n",
       "\n",
       ".rendered_html code {\n",
       "    border-radius: 3px;\n",
       "    border: 1px solid #999999;\n",
       "    font-family: \"Inconsolata\", monospace;\n",
       "    font-weight: 300;\n",
       "    font-size: 85%;\n",
       "    \n",
       "}\n",
       "\n",
       "pre {\n",
       "    font-family: Inconsolata;\n",
       "    font-weight: 500;\n",
       "    font-size: 15px;\n",
       "}\n",
       "\n",
       ".cm-s-ipython span.cm-keyword { font-weight: 500; text-color: \"black\" !important; }\n",
       "* span.cm-variable { font-weight: 500; color:\"black\"; }\n",
       "* span.cm-property { font-weight: 500; color:\"black\"; }\n",
       "\n",
       "\n",
       ".rendered_html strong {\n",
       "    font-weight: 400;\n",
       "}\n",
       "\n",
       "div.input_area {\n",
       "    border: 0;\n",
       "    border-left: 2px dotted #999999;\n",
       "    padding-left: 10px;\n",
       "}\n",
       "\n",
       "div.prompt_container {\n",
       "    background-color:#f0f0f0;\n",
       "    Font-size: 10pt;\n",
       "    min-width: 8em;\n",
       "}\n",
       "\n",
       "div.prompt {\n",
       "    background-color:none;\n",
       "    padding: 0;\n",
       "    min-width: 5.5em;\n",
       "    color: black;\n",
       "}\n",
       "\n",
       "div.prompt bdi {\n",
       "    background: black;\n",
       "    color: white;\n",
       "    padding-left: 1.5em;\n",
       "    padding-right: .5em;\n",
       "}\n",
       "\n",
       ".container {\n",
       "    font-size: 14pt;\n",
       "    line-height: 1.35em;\n",
       "    font-family: \"Roboto Condensed\", sans-serif;\n",
       "    font-weight: 300;\n",
       "    width:50% !important;\n",
       "}\n",
       "\n",
       "div.output_text {\n",
       "  font-size: 10pt;    \n",
       "}\n",
       "\n",
       "div.cell {\n",
       "    margin-top: .5em;\n",
       "}\n",
       "\n",
       "div.cell.selected,\n",
       "div.cell.selected.jupyter-soft-selected {\n",
       "    border-color: #ffffff;\n",
       "}\n",
       "\n",
       "div.cell.selected::before,\n",
       "div.cell.selected.jupyter-soft-selected::before {\n",
       "    position: absolute;\n",
       "    display: block;\n",
       "    margin-left: -5px;\n",
       "    top: -1px;\n",
       "    left: -1px;\n",
       "    width: 5px;\n",
       "    height: calc(100% + 2px);\n",
       "    content: '';\n",
       "    background: black;\n",
       "}\n",
       "\n",
       "div.cell::before,\n",
       "div.cell.jupyter-soft::before {\n",
       "    position: absolute;\n",
       "    display: block;\n",
       "    margin-left: -5px;\n",
       "    top: -1px;\n",
       "    left: -1px;\n",
       "    width: 5px;\n",
       "    height: calc(100% + 2px);\n",
       "    content: '';\n",
       "    background: #f0f0f0;\n",
       "}\n",
       "\n",
       ".edit_mode div.cell.selected::before {\n",
       "    position: absolute;\n",
       "    display: block;\n",
       "    margin-left: -5px;\n",
       "    Top: -1px;\n",
       "    left: -1px;\n",
       "    width: 5px;\n",
       "    height: calc(100% + 2px);\n",
       "    content: '';\n",
       "    background: black;\n",
       "}\n",
       "\n",
       ".edit_mode div.cell::before {\n",
       "    position: absolute;\n",
       "    display: block;\n",
       "    margin-left: -5px;\n",
       "    top: -1px;\n",
       "    left: -1px;\n",
       "    width: 5px;\n",
       "    height: calc(100% + 2px);\n",
       "    content: '';\n",
       "    background: #f0f0f0;\n",
       "}\n",
       "\n",
       ".edit_mode div.cell.selected {\n",
       "    border-color: #ffffff;\n",
       "}\n",
       "\n",
       "</style>"
      ],
      "text/plain": [
       "<IPython.core.display.HTML object>"
      ]
     },
     "metadata": {},
     "output_type": "display_data"
    }
   ],
   "source": [
    "from IPython.core.display import display, HTML\n",
    "style = open(\"./style.css\").read()\n",
    "display(HTML(\"<style>%s</style>\" % style))"
   ]
  },
  {
   "cell_type": "markdown",
   "id": "5819985a",
   "metadata": {},
   "source": [
    "# Dataviz catalogue\n",
    "\n",
    "In this lesson, we'll review the many different types of plot matplotlib offers and manipulate them.\n",
    "\n",
    "---"
   ]
  },
  {
   "cell_type": "markdown",
   "id": "0cbdafe7",
   "metadata": {},
   "source": [
    "## Initialization\n",
    "\n",
    "Before we start, let's set some default settings such that we do not have to write them each time we start a new figure."
   ]
  },
  {
   "cell_type": "code",
   "execution_count": null,
   "id": "e31518ab",
   "metadata": {},
   "outputs": [],
   "source": [
    "import numpy as np\n",
    "import matplotlib.pyplot as plt\n",
    "\n",
    "p = plt.rcParams\n",
    "p[\"figure.dpi\"] = 300"
   ]
  },
  {
   "cell_type": "markdown",
   "id": "fcafd6a3",
   "metadata": {},
   "source": [
    "## Line plot\n",
    "\n",
    "We have already manipulated line plot in the first lesson but we used it to render a... line plot (how surprising!). But this command is quite powerful and can be used to render many other type of plot such as, for example, a scatter plot. "
   ]
  },
  {
   "cell_type": "code",
   "execution_count": null,
   "id": "b20cbf03",
   "metadata": {},
   "outputs": [],
   "source": [
    "X = np.random.normal(0.0, .5, 10000)\n",
    "Y = np.random.normal(0.0, .5, len(X))\n",
    "\n",
    "fig = plt.figure(figsize=(10,10))\n",
    "ax = plt.subplot(1, 1, 1)\n",
    "ax.plot(X, Y, linestyle=\"\", color=\"C1\", alpha=0.1,\n",
    "              marker=\"o\", markersize=5,  markeredgewidth=0);"
   ]
  },
  {
   "cell_type": "markdown",
   "id": "2404ac39",
   "metadata": {},
   "source": [
    "In the figure above, we took advantage of the `alpha` parameter that sets the transparency level of markers. Consequently, areas with a higher number of point will be more opaque, suggesting density to the reader."
   ]
  },
  {
   "cell_type": "code",
   "execution_count": null,
   "id": "8c3ceebe",
   "metadata": {},
   "outputs": [],
   "source": [
    "X = [ 0,0,0,0, None, 1,1,1,1,1, None, 2,2,2, None, 3,3,3,3,3,3]\n",
    "Y = [ 1,2,3,4, None, 1,2,3,4,5, None, 1,2,3, None, 1,2,3,4,5,6]  \n",
    "\n",
    "fig = plt.figure(figsize=(10,4))\n",
    "ax = plt.subplot()\n",
    "\n",
    "ax.plot(X, Y, \"-o\", markersize=15, markerfacecolor=\"white\");\n",
    "\n",
    "ax.spines['right'].set_visible(False)\n",
    "ax.spines['left'].set_visible(False)\n",
    "ax.spines['top'].set_visible(False)\n",
    "ax.set_xlim(-1,4); ax.set_xticks([0,1,2,3]);\n",
    "ax.set_ylim(0,7); ax.set_yticks([]);"
   ]
  },
  {
   "cell_type": "markdown",
   "id": "cd944a24",
   "metadata": {},
   "source": [
    "In the figure above, the important point to notice is the use of the `None` keyword in X and Y. This indicates matpltolib that we have several series and matplotlib won't draw a line between the end point of a series and the start point of the next series.\n",
    "\n",
    "\n",
    "We can also combine several line plots to create a specific effect. For example, here is a progress bar made of several plots with various parameters. Here we take advantage of very thick line and specify line capstyle."
   ]
  },
  {
   "cell_type": "code",
   "execution_count": null,
   "id": "5fbe4b3b",
   "metadata": {},
   "outputs": [],
   "source": [
    "fig = plt.figure(figsize=(10,2))\n",
    "ax = plt.subplot(frameon=False)\n",
    "\n",
    "ax.plot([1,9], [0,0], linewidth=20, color=\"black\", solid_capstyle=\"round\");\n",
    "ax.plot([1,9], [0,0], linewidth=18, color=\"white\", solid_capstyle=\"round\");\n",
    "ax.plot([1,5], [0,0], linewidth=12, color=\"C1\",    solid_capstyle=\"round\");\n",
    "ax.plot([5,6], [0,0], linewidth=12, color=\"C1\",    solid_capstyle=\"butt\");\n",
    "ax.plot([6,6], [-0.5,0.5], \"--\", linewidth=1, color=\"black\");\n",
    "\n",
    "ax.set_xlim(0,10); ax.set_xticks([]);\n",
    "ax.set_ylim(-1.5,1.5); ax.set_yticks([]);"
   ]
  },
  {
   "cell_type": "markdown",
   "id": "606b0080",
   "metadata": {},
   "source": [
    "## Scatter plot"
   ]
  },
  {
   "cell_type": "markdown",
   "id": "f97fcc8c",
   "metadata": {},
   "source": [
    "We have just seen that the `plot` command can be used to draw a scatter plot and yet, there exists a `scatter` function. You may ask yourself what is the different between these two functions. In fact, the regular plot command can be used to represent as scatter plot as long as points share the same properties, i.e. share the same color and size. If for some reason we need to have different colors or sizes, then we need to use the scatter command."
   ]
  },
  {
   "cell_type": "code",
   "execution_count": null,
   "id": "a051606b",
   "metadata": {},
   "outputs": [],
   "source": [
    "T = np.random.uniform(0, 2*np.pi, 500)\n",
    "R = np.random.uniform(0.1, 0.5, len(T))\n",
    "X, Y = R*np.cos(T), R*np.sin(T)        # Position\n",
    "S = np.random.uniform(50, 250, len(X)) # Size\n",
    "V = np.arctan2(X,Y)                    # Value \n",
    "\n",
    "fig = plt.figure(figsize=(10,10))\n",
    "ax = plt.subplot(1, 1, 1)\n",
    "ax.scatter(X, Y, S, V, cmap=\"twilight\", edgecolor=\"white\");"
   ]
  },
  {
   "cell_type": "markdown",
   "id": "9c30cb50",
   "metadata": {},
   "source": [
    "In the example above, each marker possesses its own size and color (using a colormap). We could even specify individual marker type.\n",
    "\n",
    "Scatter can thus be used to produce heat map veary easily as shown below."
   ]
  },
  {
   "cell_type": "code",
   "execution_count": null,
   "id": "e4db1473",
   "metadata": {},
   "outputs": [],
   "source": [
    "X, Y = np.arange(24), np.arange(12)\n",
    "X, Y = np.meshgrid(X,Y)\n",
    "V = np.random.uniform(50, 250, X.shape) \n",
    "\n",
    "fig = plt.figure(figsize=(10,5))\n",
    "ax = plt.subplot()\n",
    "ax.scatter(X, Y, V, V, marker='s', cmap=\"Blues\");"
   ]
  },
  {
   "cell_type": "markdown",
   "id": "0d27bc3f",
   "metadata": {},
   "source": [
    "## Image plot"
   ]
  },
  {
   "cell_type": "code",
   "execution_count": null,
   "id": "c4431f59",
   "metadata": {},
   "outputs": [],
   "source": []
  }
 ],
 "metadata": {
  "kernelspec": {
   "display_name": "Python 3",
   "language": "python",
   "name": "python3"
  },
  "language_info": {
   "codemirror_mode": {
    "name": "ipython",
    "version": 3
   },
   "file_extension": ".py",
   "mimetype": "text/x-python",
   "name": "python",
   "nbconvert_exporter": "python",
   "pygments_lexer": "ipython3",
   "version": "3.8.10"
  }
 },
 "nbformat": 4,
 "nbformat_minor": 5
}
